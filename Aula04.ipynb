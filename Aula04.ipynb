{
 "cells": [
  {
   "cell_type": "code",
   "execution_count": null,
   "id": "f53e34c4",
   "metadata": {
    "vscode": {
     "languageId": "plaintext"
    }
   },
   "outputs": [],
   "source": [
    "provas_entrada= ['NU_NOTA_CH', 'NU_NOTA_LC', 'NU_NOTA_CN', 'NU_NOTA_REDACAO']\n",
    "\n",
    "prova_saida = 'NU_NOTA_MT'\n",
    "dados_sem_notas= dados_sem_notas_zero[provas].dropna()\n",
    "\n",
    "notas_entrada = dados_sem_notas[provas_entrada]\n",
    "notas_saida = dados_sem_notas[prova_saida]"
   ]
  },
  {
   "cell_type": "code",
   "execution_count": null,
   "id": "92d1e69d",
   "metadata": {
    "vscode": {
     "languageId": "plaintext"
    }
   },
   "outputs": [],
   "source": [
    "x =notas_entrada\n",
    "y =notas_saida"
   ]
  },
  {
   "cell_type": "code",
   "execution_count": null,
   "id": "4d9a829e",
   "metadata": {
    "vscode": {
     "languageId": "plaintext"
    }
   },
   "outputs": [],
   "source": [
    "from sklearn.model_selection import train_test_split\n",
    "\n",
    "seed = 4321\n",
    "\n",
    "x_treino, x_teste, y_treino, y_teste = train_test_split(x, y, test_size= 0.25, random_state= seed)\n",
    "\n",
    "x_treino.head()"
   ]
  },
  {
   "cell_type": "code",
   "execution_count": null,
   "id": "e5e4e076",
   "metadata": {
    "vscode": {
     "languageId": "plaintext"
    }
   },
   "outputs": [],
   "source": [
    "x_treino.shape, x_teste.shape, y_treino.shape, y_teste.shape"
   ]
  },
  {
   "cell_type": "code",
   "execution_count": null,
   "id": "70214ba3",
   "metadata": {
    "vscode": {
     "languageId": "plaintext"
    }
   },
   "outputs": [],
   "source": [
    "from sklearn.svm import LinearSVR\n",
    "\n",
    "modelo = LinearSVR(random_state=seed)\n",
    "modelo.fit(x_treino, y_treino)"
   ]
  },
  {
   "cell_type": "code",
   "execution_count": null,
   "id": "d50cc628",
   "metadata": {
    "vscode": {
     "languageId": "plaintext"
    }
   },
   "outputs": [],
   "source": [
    "predicoes = modelo.predict(x_test)"
   ]
  },
  {
   "cell_type": "code",
   "execution_count": null,
   "id": "5a354f85",
   "metadata": {
    "vscode": {
     "languageId": "plaintext"
    }
   },
   "outputs": [],
   "source": [
    "sns.scatterplot(x=predicoes, y= y_test)"
   ]
  },
  {
   "cell_type": "code",
   "execution_count": null,
   "id": "eeca589f",
   "metadata": {
    "vscode": {
     "languageId": "plaintext"
    }
   },
   "outputs": [],
   "source": [
    "resultados = pd.DataFrame()\n",
    "resultados['Real'] = y_teste\n",
    "resultados['Previsao'] = predicoes\n",
    "resultados['Diferenca'] = resultados['Real'] - resultados['Previsao']\n",
    "resultados['Quadrado da diferenca'] = (resultados['Real'] - resultados['Previsao'])**2"
   ]
  },
  {
   "cell_type": "code",
   "execution_count": null,
   "id": "bce80658",
   "metadata": {
    "vscode": {
     "languageId": "plaintext"
    }
   },
   "outputs": [],
   "source": [
    "resultados['Quadrado da diferenca'].mean()"
   ]
  },
  {
   "cell_type": "code",
   "execution_count": null,
   "id": "c17a8144",
   "metadata": {
    "vscode": {
     "languageId": "plaintext"
    }
   },
   "outputs": [],
   "source": [
    "resultados['Quadrado da diferenca'].mean()**(1/2)"
   ]
  },
  {
   "cell_type": "code",
   "execution_count": null,
   "id": "31a7da9f",
   "metadata": {
    "vscode": {
     "languageId": "plaintext"
    }
   },
   "outputs": [],
   "source": [
    "from sklearn.dummy  import DummyRegressor\n",
    "\n",
    "modelo_dummy =  DummyRegressor()\n",
    "modelo_dummy.fit(x_treino, y_treino)\n",
    "dummy_predicoes = modelo_dummy.predict(x_teste)"
   ]
  },
  {
   "cell_type": "code",
   "execution_count": null,
   "id": "630f143b",
   "metadata": {
    "vscode": {
     "languageId": "plaintext"
    }
   },
   "outputs": [],
   "source": [
    "from sklearn.metrics import mean_squared_error\n",
    "\n",
    "mean_squared_error(y_teste, dummy_predicoes)"
   ]
  },
  {
   "cell_type": "code",
   "execution_count": null,
   "id": "97cc7844",
   "metadata": {
    "vscode": {
     "languageId": "plaintext"
    }
   },
   "outputs": [],
   "source": [
    "mean_squared_error(y_teste, predicoes) # erro quadractico medio"
   ]
  }
 ],
 "metadata": {
  "language_info": {
   "name": "python"
  }
 },
 "nbformat": 4,
 "nbformat_minor": 5
}
