{
 "cells": [
  {
   "cell_type": "code",
   "execution_count": null,
   "id": "e151a84b",
   "metadata": {
    "vscode": {
     "languageId": "plaintext"
    }
   },
   "outputs": [],
   "source": [
    "from sklearn.tree import DecisionTreeRegressor\n",
    "\n",
    "x_train, x_test, y_train, y_test = train_test_split(x, y, test_size=0.25)\n",
    "\n",
    "modelo_arvore = DecisionTreeRegressor(max_depth=3)\n",
    "modelo_arvore.fit(x_train, y_train)\n",
    "predicoes_arvore = modelo_arvore.predict(x_test)\n",
    "\n"
   ]
  },
  {
   "cell_type": "code",
   "execution_count": null,
   "id": "b2b4f9f1",
   "metadata": {
    "vscode": {
     "languageId": "plaintext"
    }
   },
   "outputs": [],
   "source": [
    "mean_squared_error(y_test, predicoes_arvore)"
   ]
  },
  {
   "cell_type": "code",
   "execution_count": null,
   "id": "58ccd80a",
   "metadata": {
    "vscode": {
     "languageId": "plaintext"
    }
   },
   "outputs": [],
   "source": [
    "from sklearn.model_selection import cross_validate\n",
    "\n",
    "modelo_arvore_1 = DecisionTreeRegressor(max_depth=2)\n",
    "resultado = cross_validate(modelo_arvore_1, x, y, cv=10, scoring='neg_mean_squared_error')\n"
   ]
  },
  {
   "cell_type": "code",
   "execution_count": null,
   "id": "7459b4fa",
   "metadata": {
    "vscode": {
     "languageId": "plaintext"
    }
   },
   "outputs": [],
   "source": [
    "resultado['test_score']*-1"
   ]
  },
  {
   "cell_type": "code",
   "execution_count": null,
   "id": "e8e880c6",
   "metadata": {
    "vscode": {
     "languageId": "plaintext"
    }
   },
   "outputs": [],
   "source": [
    "def calcula_mse(resultado):\n",
    "  media =(resultado['test_score']*-1).mean()\n",
    "  desvio_padrao = (resultado['test_score']*-1).std()\n",
    "  lim_inferior = media - (2*desvio_padrao)\n",
    "  lim_superior = media + (2*desvio_padrao)\n",
    "  print(f'Intervalo de confiança {lim_inferior} - {lim_superior}')\n"
   ]
  },
  {
   "cell_type": "code",
   "execution_count": null,
   "id": "563a9f6e",
   "metadata": {
    "vscode": {
     "languageId": "plaintext"
    }
   },
   "outputs": [],
   "source": [
    "from sklearn.model_selection import KFold\n",
    "import numpy as np\n",
    "\n",
    "seed = 1232\n",
    "np.random.seed(seed)\n",
    "\n",
    "partes = KFold(n_splits = 10, shuffle=True)\n",
    "modelo_arvore_1 = DecisionTreeRegressor(max_depth=2)\n",
    "resultado = cross_validate(modelo_arvore_1, x, y, cv=partes, scoring='neg_mean_squared_error')\n",
    "calcula_mse(resultado)\n"
   ]
  },
  {
   "cell_type": "code",
   "execution_count": null,
   "id": "8ca67250",
   "metadata": {
    "vscode": {
     "languageId": "plaintext"
    }
   },
   "outputs": [],
   "source": [
    "def regressor_arvore(nivel):\n",
    "  seed = 1232\n",
    "  np.random.seed(seed)\n",
    "  partes = KFold(n_splits = 10, shuffle=True)\n",
    "  modelo_arvore_1 = DecisionTreeRegressor(max_depth=nivel)\n",
    "  resultado = cross_validate(modelo_arvore_1, x, y, cv=partes, scoring='neg_mean_squared_error', return_train_score=True)\n",
    "  print(f\"Train = {(resultado['train_score']*-1).mean() } | Test = {(resultado['test_score']*-1).mean()} \")\n",
    "\n",
    "regressor_arvore(4)"
   ]
  },
  {
   "cell_type": "code",
   "execution_count": null,
   "id": "856af891",
   "metadata": {
    "vscode": {
     "languageId": "plaintext"
    }
   },
   "outputs": [],
   "source": [
    "for i in range(1, 21):\n",
    "  regressor_arvore(i)"
   ]
  }
 ],
 "metadata": {
  "language_info": {
   "name": "python"
  }
 },
 "nbformat": 4,
 "nbformat_minor": 5
}
